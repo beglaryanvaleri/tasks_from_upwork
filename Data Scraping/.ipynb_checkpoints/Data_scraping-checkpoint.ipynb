{
 "cells": [
  {
   "cell_type": "code",
   "execution_count": 1,
   "id": "0eae4cf6",
   "metadata": {},
   "outputs": [],
   "source": [
    "import pandas as pd\n",
    "import numpy as np\n",
    "import regex as re\n",
    "\n",
    "import requests\n",
    "from bs4 import BeautifulSoup as BS\n",
    "from selenium import webdriver\n",
    "from webdriver_manager.chrome import ChromeDriverManager\n",
    "import time"
   ]
  },
  {
   "cell_type": "code",
   "execution_count": 39,
   "id": "0d7b9116",
   "metadata": {},
   "outputs": [],
   "source": [
    "links = pd.read_excel('Untitled spreadsheet.xlsx', header=None)"
   ]
  },
  {
   "cell_type": "code",
   "execution_count": 41,
   "id": "9061e2af",
   "metadata": {
    "scrolled": true
   },
   "outputs": [
    {
     "data": {
      "text/html": [
       "<div>\n",
       "<style scoped>\n",
       "    .dataframe tbody tr th:only-of-type {\n",
       "        vertical-align: middle;\n",
       "    }\n",
       "\n",
       "    .dataframe tbody tr th {\n",
       "        vertical-align: top;\n",
       "    }\n",
       "\n",
       "    .dataframe thead th {\n",
       "        text-align: right;\n",
       "    }\n",
       "</style>\n",
       "<table border=\"1\" class=\"dataframe\">\n",
       "  <thead>\n",
       "    <tr style=\"text-align: right;\">\n",
       "      <th></th>\n",
       "      <th>0</th>\n",
       "    </tr>\n",
       "  </thead>\n",
       "  <tbody>\n",
       "    <tr>\n",
       "      <th>0</th>\n",
       "      <td>https://www.etsy.com/listing/1323908718/pizza-...</td>\n",
       "    </tr>\n",
       "    <tr>\n",
       "      <th>1</th>\n",
       "      <td>https://www.etsy.com/listing/1324605374/weddin...</td>\n",
       "    </tr>\n",
       "    <tr>\n",
       "      <th>2</th>\n",
       "      <td>https://www.etsy.com/listing/1192215769/weddin...</td>\n",
       "    </tr>\n",
       "    <tr>\n",
       "      <th>3</th>\n",
       "      <td>https://www.etsy.com/listing/1282460504/cake-c...</td>\n",
       "    </tr>\n",
       "    <tr>\n",
       "      <th>4</th>\n",
       "      <td>https://www.etsy.com/listing/897102405/a-super...</td>\n",
       "    </tr>\n",
       "  </tbody>\n",
       "</table>\n",
       "</div>"
      ],
      "text/plain": [
       "                                                   0\n",
       "0  https://www.etsy.com/listing/1323908718/pizza-...\n",
       "1  https://www.etsy.com/listing/1324605374/weddin...\n",
       "2  https://www.etsy.com/listing/1192215769/weddin...\n",
       "3  https://www.etsy.com/listing/1282460504/cake-c...\n",
       "4  https://www.etsy.com/listing/897102405/a-super..."
      ]
     },
     "execution_count": 41,
     "metadata": {},
     "output_type": "execute_result"
    }
   ],
   "source": [
    "links.head()"
   ]
  },
  {
   "cell_type": "code",
   "execution_count": 51,
   "id": "f14e2379",
   "metadata": {},
   "outputs": [
    {
     "name": "stderr",
     "output_type": "stream",
     "text": [
      "c:\\users\\begla\\appdata\\local\\programs\\python\\python37\\lib\\site-packages\\ipykernel_launcher.py:3: DeprecationWarning: executable_path has been deprecated, please pass in a Service object\n",
      "  This is separate from the ipykernel package so we can avoid doing imports until\n"
     ]
    }
   ],
   "source": [
    "df = pd.DataFrame(columns=['name', 'link'])\n",
    "for url in links[0][:100]:\n",
    "    driver = webdriver.Chrome(ChromeDriverManager().install())\n",
    "    driver.get(url)\n",
    "    html = driver.page_source\n",
    "    soup = BS(html, \"html.parser\")\n",
    "    \n",
    "    name = soup.find_all('p', class_='wt-text-body-01 wt-mr-xs-1')\n",
    "    name = re.findall(r'<span aria-hidden=\"true\">\\n(.*)\\n', str(name[0]))\n",
    "    name = name[0].strip()\n",
    "    df = df.append({'link': url, 'name': name}, ignore_index=True)"
   ]
  },
  {
   "cell_type": "code",
   "execution_count": 52,
   "id": "0c29d12a",
   "metadata": {},
   "outputs": [
    {
     "data": {
      "text/html": [
       "<div>\n",
       "<style scoped>\n",
       "    .dataframe tbody tr th:only-of-type {\n",
       "        vertical-align: middle;\n",
       "    }\n",
       "\n",
       "    .dataframe tbody tr th {\n",
       "        vertical-align: top;\n",
       "    }\n",
       "\n",
       "    .dataframe thead th {\n",
       "        text-align: right;\n",
       "    }\n",
       "</style>\n",
       "<table border=\"1\" class=\"dataframe\">\n",
       "  <thead>\n",
       "    <tr style=\"text-align: right;\">\n",
       "      <th></th>\n",
       "      <th>name</th>\n",
       "      <th>link</th>\n",
       "    </tr>\n",
       "  </thead>\n",
       "  <tbody>\n",
       "    <tr>\n",
       "      <th>0</th>\n",
       "      <td>ApolloVikings</td>\n",
       "      <td>https://www.etsy.com/listing/1323908718/pizza-...</td>\n",
       "    </tr>\n",
       "    <tr>\n",
       "      <th>1</th>\n",
       "      <td>WAGbohemianChic</td>\n",
       "      <td>https://www.etsy.com/listing/1324605374/weddin...</td>\n",
       "    </tr>\n",
       "    <tr>\n",
       "      <th>2</th>\n",
       "      <td>WeddingArtGallery</td>\n",
       "      <td>https://www.etsy.com/listing/1192215769/weddin...</td>\n",
       "    </tr>\n",
       "    <tr>\n",
       "      <th>3</th>\n",
       "      <td>HeavSoShop20</td>\n",
       "      <td>https://www.etsy.com/listing/1282460504/cake-c...</td>\n",
       "    </tr>\n",
       "    <tr>\n",
       "      <th>4</th>\n",
       "      <td>BestFrenchBargains</td>\n",
       "      <td>https://www.etsy.com/listing/897102405/a-super...</td>\n",
       "    </tr>\n",
       "    <tr>\n",
       "      <th>...</th>\n",
       "      <td>...</td>\n",
       "      <td>...</td>\n",
       "    </tr>\n",
       "    <tr>\n",
       "      <th>95</th>\n",
       "      <td>Jasonlebrocanteur</td>\n",
       "      <td>https://www.etsy.com/listing/1190333719/collec...</td>\n",
       "    </tr>\n",
       "    <tr>\n",
       "      <th>96</th>\n",
       "      <td>Alidayim</td>\n",
       "      <td>https://www.etsy.com/listing/1285782681/specia...</td>\n",
       "    </tr>\n",
       "    <tr>\n",
       "      <th>97</th>\n",
       "      <td>TopperForWedding</td>\n",
       "      <td>https://www.etsy.com/listing/672488244/wedding...</td>\n",
       "    </tr>\n",
       "    <tr>\n",
       "      <th>98</th>\n",
       "      <td>liamoria</td>\n",
       "      <td>https://www.etsy.com/listing/1180034541/cake-s...</td>\n",
       "    </tr>\n",
       "    <tr>\n",
       "      <th>99</th>\n",
       "      <td>CharmWoodShop</td>\n",
       "      <td>https://www.etsy.com/listing/749789788/box-for...</td>\n",
       "    </tr>\n",
       "  </tbody>\n",
       "</table>\n",
       "<p>100 rows × 2 columns</p>\n",
       "</div>"
      ],
      "text/plain": [
       "                  name                                               link\n",
       "0        ApolloVikings  https://www.etsy.com/listing/1323908718/pizza-...\n",
       "1      WAGbohemianChic  https://www.etsy.com/listing/1324605374/weddin...\n",
       "2    WeddingArtGallery  https://www.etsy.com/listing/1192215769/weddin...\n",
       "3         HeavSoShop20  https://www.etsy.com/listing/1282460504/cake-c...\n",
       "4   BestFrenchBargains  https://www.etsy.com/listing/897102405/a-super...\n",
       "..                 ...                                                ...\n",
       "95   Jasonlebrocanteur  https://www.etsy.com/listing/1190333719/collec...\n",
       "96            Alidayim  https://www.etsy.com/listing/1285782681/specia...\n",
       "97    TopperForWedding  https://www.etsy.com/listing/672488244/wedding...\n",
       "98            liamoria  https://www.etsy.com/listing/1180034541/cake-s...\n",
       "99       CharmWoodShop  https://www.etsy.com/listing/749789788/box-for...\n",
       "\n",
       "[100 rows x 2 columns]"
      ]
     },
     "execution_count": 52,
     "metadata": {},
     "output_type": "execute_result"
    }
   ],
   "source": [
    "df"
   ]
  },
  {
   "cell_type": "code",
   "execution_count": 53,
   "id": "83a1747f",
   "metadata": {},
   "outputs": [],
   "source": [
    "df.to_csv(\"data.csv\", index=False)"
   ]
  },
  {
   "cell_type": "code",
   "execution_count": null,
   "id": "6dfa4642",
   "metadata": {},
   "outputs": [],
   "source": []
  },
  {
   "cell_type": "code",
   "execution_count": null,
   "id": "6c52e670",
   "metadata": {},
   "outputs": [],
   "source": []
  }
 ],
 "metadata": {
  "kernelspec": {
   "display_name": "Python 3 (ipykernel)",
   "language": "python",
   "name": "python3"
  },
  "language_info": {
   "codemirror_mode": {
    "name": "ipython",
    "version": 3
   },
   "file_extension": ".py",
   "mimetype": "text/x-python",
   "name": "python",
   "nbconvert_exporter": "python",
   "pygments_lexer": "ipython3",
   "version": "3.7.9"
  }
 },
 "nbformat": 4,
 "nbformat_minor": 5
}
