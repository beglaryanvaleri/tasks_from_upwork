{
 "cells": [
  {
   "cell_type": "code",
   "execution_count": 210,
   "id": "817d9a5d",
   "metadata": {},
   "outputs": [],
   "source": [
    "import pandas as pd\n",
    "import regex as re"
   ]
  },
  {
   "cell_type": "code",
   "execution_count": 211,
   "id": "4e227b58",
   "metadata": {},
   "outputs": [],
   "source": [
    "df = pd.read_csv('sample_data.csv')\n",
    "\n",
    "columns_email_mobile = ['email1', 'email2', 'email3', 'mobile1', 'email4', 'mobile2',\n",
    "       'mobile3', 'mobile4', 'mobile5', 'mobile6', 'email5',\n",
    "       'toll_free_num _1', 'toll_free_num _2', 'toll_free_num _5',\n",
    "       'toll_free_num _4', 'home_address_1', 'home_address_2',\n",
    "       'toll_free_num _3', 'landline_1', 'landline_2', 'landline_3',\n",
    "       'landline_4', 'landline_5', 'landline_6', 'landline_7']\n",
    "columns_home_office = ['home_address_1', 'home_address_2',\n",
    "       'toll_free_num _3', 'home_address_5', 'office_address_1',\n",
    "       'home_address_3', 'office_address_5', 'office_address_4',\n",
    "       'home_address_4', 'office_address_3', 'office_address_3.1']\n",
    "columns_warehouse = ['warehouse_address_1', 'warehouse_address_2', 'warehouse_address_5',\n",
    "       'warehouse_address_3', 'warehouse_address_4']"
   ]
  },
  {
   "cell_type": "code",
   "execution_count": 212,
   "id": "7e04d744",
   "metadata": {},
   "outputs": [],
   "source": [
    "def check_email_phone(email):\n",
    "    email = str(email)\n",
    "    email = email.strip()\n",
    "    find_email = re.findall(r'([\\w\\_\\-\\.\\+]*@[\\w]*.[\\w]*)', email)\n",
    "    if(len(find_email) > 0):\n",
    "        if find_email[0] == email:\n",
    "#             print(email)\n",
    "            return email\n",
    "        else:\n",
    "            return ''\n",
    "    else:\n",
    "        phone = email.replace(' ', '').replace('-', '')\n",
    "        if (phone[:3] == '+91' or phone[:3] == '091') and len(phone) == 13:\n",
    "#             print(phone)\n",
    "            return phone\n",
    "        elif (phone[:2] == '98' and len(phone) == 10) or (phone[:3] == '098' and len(phone) == 11):\n",
    "#             print(phone)\n",
    "            return phone\n",
    "        else:        \n",
    "            return ''"
   ]
  },
  {
   "cell_type": "code",
   "execution_count": 213,
   "id": "5dcd3998",
   "metadata": {},
   "outputs": [],
   "source": [
    "def check_address(address):\n",
    "    address = str(address)\n",
    "    address1 = address.replace(',', ' ').replace('-', ' ')\n",
    "    address_arr = address1.split()\n",
    "    \n",
    "    number_of_words = 0\n",
    "    for i in address_arr:\n",
    "        if len(re.findall(r'[a-z, A-Z]', i)) > 1:\n",
    "            number_of_words += 1\n",
    "    \n",
    "    if len(address_arr) > 0:\n",
    "        if len(re.findall(r'[0-9]{6}', address_arr[-1])) == 1 and number_of_words > 3:\n",
    "#             print(address)\n",
    "            return address\n",
    "        else:\n",
    "            return ''\n",
    "    else:\n",
    "        return ''\n",
    "    "
   ]
  },
  {
   "cell_type": "code",
   "execution_count": 215,
   "id": "4e88641b",
   "metadata": {},
   "outputs": [],
   "source": [
    "for column in columns_email_mobile:\n",
    "    df[column] = df[column].apply(check_email_phone)\n",
    "for column in columns_home_office:\n",
    "    df[column] = df[column].apply(check_address)\n",
    "for column in columns_warehouse:\n",
    "    df[column] = df[column].apply(check_address)\n",
    "\n",
    "df_new = pd.DataFrame(df['id'])\n",
    "\n",
    "df_new['email_mobile'] = ''\n",
    "df_new['home_office'] = ''\n",
    "df_new['warehouse'] = ''\n",
    "\n",
    "for column in columns_email_mobile:\n",
    "    df_new['email_mobile'] += df[column]\n",
    "for column in columns_home_office:\n",
    "    df_new['home_office'] += df[column]\n",
    "for column in columns_warehouse:\n",
    "    df_new['warehouse'] += df[column]\n",
    "    \n",
    "df_new['email_mobile'] = df_new['email_mobile'].apply(lambda x: 1 if len(x) > 3 else 0)\n",
    "df_new['home_office'] = df_new['home_office'].apply(lambda x: 1 if len(x) > 3 else 0)\n",
    "df_new['warehouse'] = df_new['warehouse'].apply(lambda x: 1 if len(x) > 3 else 0)   "
   ]
  },
  {
   "cell_type": "code",
   "execution_count": 217,
   "id": "6dec448c",
   "metadata": {},
   "outputs": [
    {
     "data": {
      "text/html": [
       "<div>\n",
       "<style scoped>\n",
       "    .dataframe tbody tr th:only-of-type {\n",
       "        vertical-align: middle;\n",
       "    }\n",
       "\n",
       "    .dataframe tbody tr th {\n",
       "        vertical-align: top;\n",
       "    }\n",
       "\n",
       "    .dataframe thead th {\n",
       "        text-align: right;\n",
       "    }\n",
       "</style>\n",
       "<table border=\"1\" class=\"dataframe\">\n",
       "  <thead>\n",
       "    <tr style=\"text-align: right;\">\n",
       "      <th></th>\n",
       "      <th>id</th>\n",
       "      <th>email_mobile</th>\n",
       "      <th>home_office</th>\n",
       "      <th>warehouse</th>\n",
       "    </tr>\n",
       "  </thead>\n",
       "  <tbody>\n",
       "    <tr>\n",
       "      <th>0</th>\n",
       "      <td>1</td>\n",
       "      <td>0</td>\n",
       "      <td>1</td>\n",
       "      <td>0</td>\n",
       "    </tr>\n",
       "    <tr>\n",
       "      <th>1</th>\n",
       "      <td>2</td>\n",
       "      <td>0</td>\n",
       "      <td>0</td>\n",
       "      <td>0</td>\n",
       "    </tr>\n",
       "    <tr>\n",
       "      <th>2</th>\n",
       "      <td>3</td>\n",
       "      <td>0</td>\n",
       "      <td>0</td>\n",
       "      <td>0</td>\n",
       "    </tr>\n",
       "    <tr>\n",
       "      <th>3</th>\n",
       "      <td>4</td>\n",
       "      <td>0</td>\n",
       "      <td>0</td>\n",
       "      <td>0</td>\n",
       "    </tr>\n",
       "    <tr>\n",
       "      <th>4</th>\n",
       "      <td>5</td>\n",
       "      <td>1</td>\n",
       "      <td>0</td>\n",
       "      <td>0</td>\n",
       "    </tr>\n",
       "  </tbody>\n",
       "</table>\n",
       "</div>"
      ],
      "text/plain": [
       "   id  email_mobile  home_office  warehouse\n",
       "0   1             0            1          0\n",
       "1   2             0            0          0\n",
       "2   3             0            0          0\n",
       "3   4             0            0          0\n",
       "4   5             1            0          0"
      ]
     },
     "execution_count": 217,
     "metadata": {},
     "output_type": "execute_result"
    }
   ],
   "source": [
    "df_new.head()"
   ]
  },
  {
   "cell_type": "code",
   "execution_count": 220,
   "id": "cc28548b",
   "metadata": {},
   "outputs": [],
   "source": [
    "df_new.to_csv('result.csv', index=False)"
   ]
  }
 ],
 "metadata": {
  "kernelspec": {
   "display_name": "Python 3 (ipykernel)",
   "language": "python",
   "name": "python3"
  },
  "language_info": {
   "codemirror_mode": {
    "name": "ipython",
    "version": 3
   },
   "file_extension": ".py",
   "mimetype": "text/x-python",
   "name": "python",
   "nbconvert_exporter": "python",
   "pygments_lexer": "ipython3",
   "version": "3.7.9"
  }
 },
 "nbformat": 4,
 "nbformat_minor": 5
}
