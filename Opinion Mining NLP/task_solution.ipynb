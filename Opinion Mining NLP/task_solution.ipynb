{
 "cells": [
  {
   "cell_type": "code",
   "execution_count": 1,
   "id": "2c92bdbc",
   "metadata": {},
   "outputs": [],
   "source": [
    "import csv\n",
    "import pandas as pd\n",
    "import nltk\n",
    "from nltk.tokenize import sent_tokenize,word_tokenize"
   ]
  },
  {
   "cell_type": "code",
   "execution_count": 2,
   "id": "676c6150",
   "metadata": {},
   "outputs": [],
   "source": [
    "#function that loads a lexicon of positive words to a set and returns the set\n",
    "def loadLexicon(fname):\n",
    "    newLex=set()\n",
    "    lex_conn=open(fname)\n",
    "    \n",
    "    #add every word in the file to the set\n",
    "    for line in lex_conn:\n",
    "        newLex.add(line.strip())# remember to strip to remove the lin-change character\n",
    "    lex_conn.close()\n",
    "\n",
    "    return newLex\n",
    "\n",
    "def review_tokenize(text):\n",
    "    positive_words = loadLexicon(r\"positive-words.txt\")\n",
    "    negative_words = loadLexicon(r\"negative-words.txt\")\n",
    "    \n",
    "    df = pd.DataFrame(columns = ('word', 'rating')) # create dataframe for words ant there ratings\n",
    "\n",
    "    sentences=sent_tokenize(text) # split the review into sentences    \n",
    "    for sentence in sentences: # for each sentence\n",
    "        words=word_tokenize(sentence)  # split the review into words\n",
    "        tagged_words=nltk.pos_tag(words) # POS tagging for the words in the sentence\n",
    "        prev_word = [None,None]\n",
    "        for tagged_word in tagged_words:  # for each word\n",
    "            rating = 0 # put rating 0\n",
    "            if len(tagged_word[0]) < 3: continue # ignore nouns with less than 3 characters\n",
    "            if tagged_word[1] == 'NN': # if word is noun                \n",
    "                add = False # mark if add word to dataframe or not\n",
    "                for i in range(0, len(tagged_words)):\n",
    "                    if tagged_words[i][0].lower() in negative_words: # -1 rating if there is negative word\n",
    "                        if i > 0 and tagged_words[i-1][0].lower() == 'not':\n",
    "                            rating += 1\n",
    "                        else:\n",
    "                            rating -= 1\n",
    "                        add = True\n",
    "                    if tagged_words[i][0].lower() in positive_words: #  +1 rating if there is negative word\n",
    "                        if i > 0 and tagged_words[i-1][0].lower() == 'not':\n",
    "                            rating -= 1\n",
    "                        else:\n",
    "                            rating += 1\n",
    "                        add = True\n",
    "                if add: #add word to dataframe\n",
    "                    df = df.append({'word': tagged_word[0].lower(), 'rating': rating}, ignore_index=True)\n",
    "\n",
    "    df = df.groupby('word').sum() #groupby by words\n",
    "    return df\n",
    "        "
   ]
  },
  {
   "cell_type": "code",
   "execution_count": 6,
   "id": "0030e261",
   "metadata": {},
   "outputs": [
    {
     "data": {
      "text/html": [
       "<div>\n",
       "<style scoped>\n",
       "    .dataframe tbody tr th:only-of-type {\n",
       "        vertical-align: middle;\n",
       "    }\n",
       "\n",
       "    .dataframe tbody tr th {\n",
       "        vertical-align: top;\n",
       "    }\n",
       "\n",
       "    .dataframe thead th {\n",
       "        text-align: right;\n",
       "    }\n",
       "</style>\n",
       "<table border=\"1\" class=\"dataframe\">\n",
       "  <thead>\n",
       "    <tr style=\"text-align: right;\">\n",
       "      <th></th>\n",
       "      <th>rating</th>\n",
       "    </tr>\n",
       "    <tr>\n",
       "      <th>word</th>\n",
       "      <th></th>\n",
       "    </tr>\n",
       "  </thead>\n",
       "  <tbody>\n",
       "    <tr>\n",
       "      <th>day</th>\n",
       "      <td>1</td>\n",
       "    </tr>\n",
       "  </tbody>\n",
       "</table>\n",
       "</div>"
      ],
      "text/plain": [
       "      rating\n",
       "word        \n",
       "day        1"
      ]
     },
     "execution_count": 6,
     "metadata": {},
     "output_type": "execute_result"
    }
   ],
   "source": []
  },
  {
   "cell_type": "code",
   "execution_count": 6,
   "id": "5e4173fa",
   "metadata": {},
   "outputs": [],
   "source": [
    "def parse(input_file, num1, num2):\n",
    "    \n",
    "    csv_file = pd.read_csv(input_file, names=['text', 'rating']) # read csv file\n",
    "    \n",
    "    text1 = csv_file.iloc[num1]['text'] # read review 1\n",
    "    text2 = csv_file.iloc[num2]['text'] # read review 2\n",
    "    \n",
    "    df1 = review_tokenize(text1) # preparing review 1 for comparison\n",
    "    df2 = review_tokenize(text2) # preparing review 2 for comparison\n",
    "    \n",
    "    df_merged = df1.merge(df2, how='inner', on='word').reset_index() # merge dataframe\n",
    "    result = df_merged.loc[~((df_merged['rating_x'] > 0) & (df_merged['rating_y'] > 0)) | \n",
    "                           ((df_merged['rating_x'] < 0) & (df_merged['rating_y'] < 0))]['word'].tolist() # choose nouns with different sentiments\n",
    "    \n",
    "    print(df_merged)  # dataframe of words from each review, x_rating is rating of review 1 and y_rating is rating of review 2\n",
    "    \n",
    "    return result\n",
    "    "
   ]
  },
  {
   "cell_type": "code",
   "execution_count": 7,
   "id": "d288b666",
   "metadata": {
    "scrolled": false
   },
   "outputs": [
    {
     "name": "stdout",
     "output_type": "stream",
     "text": [
      "       word  rating_x  rating_y\n",
      "0       app        -1         2\n",
      "1      bass         2         3\n",
      "2       bit         1         2\n",
      "3       ear        -1         3\n",
      "4     music         1         0\n",
      "5     noise       -11         1\n",
      "6      pair         4         1\n",
      "7     phone         1         2\n",
      "8     price         1         1\n",
      "9     punch        -2         3\n",
      "10  quality         2         5\n",
      "11    sound         0         2\n",
      "12      use         1         1\n"
     ]
    },
    {
     "data": {
      "text/plain": [
       "['app', 'ear', 'music', 'noise', 'punch', 'sound']"
      ]
     },
     "execution_count": 7,
     "metadata": {},
     "output_type": "execute_result"
    }
   ],
   "source": [
    "parse('amazonreviews.csv', 9, 12)"
   ]
  },
  {
   "cell_type": "code",
   "execution_count": null,
   "id": "38adb5bf",
   "metadata": {},
   "outputs": [],
   "source": []
  }
 ],
 "metadata": {
  "kernelspec": {
   "display_name": "Python 3 (ipykernel)",
   "language": "python",
   "name": "python3"
  },
  "language_info": {
   "codemirror_mode": {
    "name": "ipython",
    "version": 3
   },
   "file_extension": ".py",
   "mimetype": "text/x-python",
   "name": "python",
   "nbconvert_exporter": "python",
   "pygments_lexer": "ipython3",
   "version": "3.7.9"
  }
 },
 "nbformat": 4,
 "nbformat_minor": 5
}
