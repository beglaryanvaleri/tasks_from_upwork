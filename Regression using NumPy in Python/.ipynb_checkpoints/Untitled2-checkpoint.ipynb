{
 "cells": [
  {
   "cell_type": "code",
   "execution_count": 1,
   "id": "4b7c9028",
   "metadata": {},
   "outputs": [],
   "source": [
    "import numpy as np"
   ]
  },
  {
   "cell_type": "code",
   "execution_count": 2,
   "id": "0f75c192",
   "metadata": {},
   "outputs": [
    {
     "data": {
      "text/plain": [
       "0.8414709848078965"
      ]
     },
     "execution_count": 2,
     "metadata": {},
     "output_type": "execute_result"
    }
   ],
   "source": [
    "np.sin(1)"
   ]
  },
  {
   "cell_type": "code",
   "execution_count": 3,
   "id": "9ede7397",
   "metadata": {},
   "outputs": [],
   "source": [
    "x = np.array([1, 2, 3, 4, 5, 6, 7, 8, 9, 10, 11, 12])\n",
    "y = np.array([1, 1.5, 4, 3.5, 4.5, 6.5, 7.9, 6.5, 8.1, 10.8, 11.4, 12.3])\n",
    "\n",
    "k = 5\n",
    "d = 4\n",
    "t = [0] * (d+1)\n",
    "# y = t[0] + t[i] * np.sin(i*k*x)*np.sin(i*k*x)\n",
    "\n",
    "L = 0.0001  # The learning Rate\n",
    "epochs = 100  # The number of iterations to perform gradient descent\n",
    "n = float(len(x))  # Number of elements in X\n"
   ]
  },
  {
   "cell_type": "code",
   "execution_count": 4,
   "id": "8e566389",
   "metadata": {},
   "outputs": [],
   "source": [
    "def y_pred(d, k, x, t):\n",
    "    y_pred = t[0]\n",
    "    for i in range(1, d+1):\n",
    "        y_pred += t[i] * np.sin(i*k*x)*np.sin(i*k*x)\n",
    "        print(y_pred)\n",
    "    return y_pred\n",
    "    "
   ]
  },
  {
   "cell_type": "code",
   "execution_count": 5,
   "id": "e1101daa",
   "metadata": {},
   "outputs": [
    {
     "name": "stdout",
     "output_type": "stream",
     "text": [
      "0.5551936219195238\n",
      "2.5308229347147613\n",
      "3.542150976412039\n",
      "3.734740752470811\n"
     ]
    },
    {
     "data": {
      "text/plain": [
       "3.734740752470811"
      ]
     },
     "execution_count": 5,
     "metadata": {},
     "output_type": "execute_result"
    }
   ],
   "source": [
    "y_pred(4, 8, 5, [0,1,2,3,4])"
   ]
  },
  {
   "cell_type": "code",
   "execution_count": 6,
   "id": "9ceea92e",
   "metadata": {},
   "outputs": [],
   "source": [
    "def y_error(d, k, x, y, t):\n",
    "    if d == 0:\n",
    "        y_error = 2 * (y - y_pred(d, k, x, t))\n",
    "    else:\n",
    "        y_error = 2 * np.sin(k*d*x)*(y - y_pred(d, k, x, t))\n",
    "    return y_error  \n",
    "    "
   ]
  },
  {
   "cell_type": "code",
   "execution_count": 7,
   "id": "203f646f",
   "metadata": {
    "scrolled": true
   },
   "outputs": [
    {
     "data": {
      "text/plain": [
       "12"
      ]
     },
     "execution_count": 7,
     "metadata": {},
     "output_type": "execute_result"
    }
   ],
   "source": [
    "y_error(0, 3, 5, 6, [0, 2, 2, 2, 2])"
   ]
  },
  {
   "cell_type": "code",
   "execution_count": 27,
   "id": "f82d8857",
   "metadata": {},
   "outputs": [],
   "source": [
    "with open('datasets/Q1_B_train.txt') as file:\n",
    "   text = file.readlines()\n",
    "\n",
    "x = []\n",
    "y = []\n",
    "for i in range(0, len(text)):\n",
    "    x.append(float(text[i].split()[1]))\n",
    "    y.append(float(text[i].split()[3]))"
   ]
  },
  {
   "cell_type": "code",
   "execution_count": 23,
   "id": "627586f5",
   "metadata": {},
   "outputs": [],
   "source": []
  },
  {
   "cell_type": "code",
   "execution_count": null,
   "id": "8c9b6e1a",
   "metadata": {},
   "outputs": [],
   "source": []
  },
  {
   "cell_type": "code",
   "execution_count": null,
   "id": "3eed8d19",
   "metadata": {},
   "outputs": [],
   "source": []
  },
  {
   "cell_type": "code",
   "execution_count": null,
   "id": "ec43a7ed",
   "metadata": {},
   "outputs": [],
   "source": []
  },
  {
   "cell_type": "code",
   "execution_count": null,
   "id": "e08ca794",
   "metadata": {},
   "outputs": [],
   "source": []
  }
 ],
 "metadata": {
  "kernelspec": {
   "display_name": "Python 3 (ipykernel)",
   "language": "python",
   "name": "python3"
  },
  "language_info": {
   "codemirror_mode": {
    "name": "ipython",
    "version": 3
   },
   "file_extension": ".py",
   "mimetype": "text/x-python",
   "name": "python",
   "nbconvert_exporter": "python",
   "pygments_lexer": "ipython3",
   "version": "3.7.9"
  }
 },
 "nbformat": 4,
 "nbformat_minor": 5
}
